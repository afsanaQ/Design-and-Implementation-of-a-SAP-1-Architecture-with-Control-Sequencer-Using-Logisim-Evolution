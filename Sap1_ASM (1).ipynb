{
  "cells": [
    {
      "cell_type": "code",
      "execution_count": 4,
      "metadata": {
        "colab": {
          "base_uri": "https://localhost:8080/"
        },
        "id": "gZKD8E9Vcb08",
        "outputId": "4ecc1782-ee26-4290-8edd-ed03afd0131a"
      },
      "outputs": [
        {
          "output_type": "stream",
          "name": "stdout",
          "text": [
            "Overwriting /content/sap1_asm.py\n"
          ]
        }
      ],
      "source": [
        "%%writefile /content/sap1_asm.py\n",
        "#!/usr/bin/env python3\n",
        "import re, sys\n",
        "\n",
        "ISA = {\n",
        "    \"LDA\": (0x1, True),  \"LDB\": (0x2, True),   \"STS\": (0x4, True),\n",
        "    \"SHL_A\": (0x6, False),\n",
        "     \"HLT\": (0xB, False),\n",
        "}\n",
        "\n",
        "def is_binary_token(s): return re.fullmatch(r\"[01]{1,8}\", s) is not None\n",
        "\n",
        "def parse_number(tok):\n",
        "    if is_binary_token(tok): return int(tok, 2)\n",
        "    if tok.startswith((\"0x\",\"0X\")): return int(tok, 16)\n",
        "    if len(tok)==1 and tok.upper() in \"0123456789ABCDEF\": return int(tok,16)\n",
        "    return int(tok, 10)\n",
        "\n",
        "def tokenize(src):\n",
        "    for raw in src.splitlines():\n",
        "        line = raw.split(\";\")[0].split(\"#\")[0].strip()\n",
        "        if line: yield line\n",
        "\n",
        "def first_pass(lines):\n",
        "    pc=0; labels={}; out=[]\n",
        "    for line in lines:\n",
        "        if \":\" in line:\n",
        "            lab,line = line.split(\":\",1); lab=lab.strip(); line=line.strip()\n",
        "            if lab:\n",
        "                if lab in labels: raise ValueError(f\"Duplicate label: {lab}\")\n",
        "                labels[lab]=pc\n",
        "            if not line: out.append((\"NOPLINE\",[],pc)); continue\n",
        "        toks=line.replace(\",\",\" \").split()\n",
        "        out.append((toks[0].upper(), toks[1:], pc))\n",
        "        if toks[0].upper()==\"ORG\": pc = parse_number(toks[1]) & 0xF\n",
        "        else: pc=(pc+1)&0xF\n",
        "    return labels,out\n",
        "\n",
        "def assemble(src):\n",
        "    mem=[0x00]*16\n",
        "    labels, lines = first_pass(list(tokenize(src)))\n",
        "    pc=0\n",
        "    for op,args,at in lines:\n",
        "        if op==\"NOPLINE\": pc=at; continue\n",
        "        if op==\"ORG\": pc=parse_number(args[0])&0xF; continue\n",
        "        if op==\"DATA\":\n",
        "            mem[pc]=parse_number(args[0])&0xFF; pc=(pc+1)&0xF; continue\n",
        "        if op not in ISA: raise ValueError(f\"Unknown instruction: {op}\")\n",
        "        opcode, needs = ISA[op]; operand=0\n",
        "        if needs:\n",
        "            if not args: raise ValueError(f\"{op} needs an operand at address {pc:01X}\")\n",
        "            a=args[0]; operand=(labels[a]&0xF) if a in labels else (parse_number(a)&0xF)\n",
        "        mem[pc]=((opcode&0xF)<<4)|(operand&0xF); pc=(pc+1)&0xF\n",
        "    return mem\n",
        "\n",
        "def main():\n",
        "    import argparse\n",
        "    parser=argparse.ArgumentParser(description=\"SAP-1 assembler -> 16-byte hex image\")\n",
        "    parser.add_argument(\"file\", nargs=\"?\")\n",
        "    args,_=parser.parse_known_args()\n",
        "    if args.file:\n",
        "        src=open(args.file,\"r\",encoding=\"utf-8\").read()\n",
        "    else:\n",
        "        print(\"Enter SAP-1 assembly. Type END on a line by itself to finish:\")\n",
        "        buf=[]\n",
        "        while True:\n",
        "            try: line=input()\n",
        "            except EOFError: break\n",
        "            if line.strip()==\"END\": break\n",
        "            buf.append(line)\n",
        "        src=\"\\n\".join(buf)\n",
        "    mem=assemble(src)\n",
        "    print(\" \".join(f\"{b:02X}\" for b in mem))\n",
        "\n",
        "if __name__==\"__main__\":\n",
        "    main()\n"
      ]
    },
    {
      "cell_type": "code",
      "execution_count": 5,
      "metadata": {
        "colab": {
          "base_uri": "https://localhost:8080/"
        },
        "id": "FwGQq60Qaj_f",
        "outputId": "cff7cf2b-7d0a-4aea-e1f1-52f323f6bdb2"
      },
      "outputs": [
        {
          "output_type": "stream",
          "name": "stdout",
          "text": [
            "1E 2F 60 B0 00 00 00 00 00 00 00 00 00 00 05 0A\n"
          ]
        }
      ],
      "source": [
        "%%bash\n",
        "# Create the assembly source\n",
        "cat > /content/prog.asm <<'ASM'\n",
        "ORG 0\n",
        "LDA 1110\n",
        "LDB 1111\n",
        "SHL_A\n",
        "HLT\n",
        "ORG 14\n",
        "DATA 0101\n",
        "DATA 1010\n",
        "ASM\n",
        "\n",
        "# Run the assembler on that file\n",
        "python3 /content/sap1_asm.py /content/prog.asm\n"
      ]
    }
  ],
  "metadata": {
    "colab": {
      "provenance": []
    },
    "kernelspec": {
      "display_name": "Python 3",
      "name": "python3"
    },
    "language_info": {
      "name": "python"
    }
  },
  "nbformat": 4,
  "nbformat_minor": 0
}